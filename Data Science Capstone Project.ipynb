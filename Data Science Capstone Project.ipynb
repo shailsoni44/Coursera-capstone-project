{
    "cells": [
        {
            "cell_type": "markdown",
            "metadata": {
                "collapsed": true
            },
            "source": "## Capstone Project : Effect of Covid on Resturants and Their Future Recovery"
        },
        {
            "cell_type": "code",
            "execution_count": 2,
            "metadata": {},
            "outputs": [],
            "source": "# The code was removed by Watson Studio for sharing."
        },
        {
            "cell_type": "code",
            "execution_count": 1,
            "metadata": {},
            "outputs": [],
            "source": "import numpy as np\nimport pandas as pd"
        },
        {
            "cell_type": "code",
            "execution_count": 2,
            "metadata": {},
            "outputs": [
                {
                    "name": "stdout",
                    "output_type": "stream",
                    "text": "Hello Capstone Project Course!\n"
                }
            ],
            "source": "print(\"Hello Capstone Project Course!\") # Just for fun"
        },
        {
            "cell_type": "markdown",
            "metadata": {},
            "source": "### Indtroduction to the problem\n\nDue to covid most of the restaurants suffered heavy loss of revanue during lockdown. As restaurants opens slowly mainly allowing carryout and delivery, lets find out which areas are more suitable for short term recovey and which areas will take long time to recover."
        },
        {
            "cell_type": "markdown",
            "metadata": {},
            "source": "### Description of data to be used\n\nWe will use neighborhood data for city of toronto. Using this data we will devide this neighborhoods to three catagories:\n1) Residential Area \n2) Commercial Area and \n3) Mixture. \n\nWe will take following assumptions incorperated through WHO guidlines:\n1) Business will open into later Phases of reopening (6 months of closure)\n2) Demand for restaurant will slowly recover but never fully recover (linear increase from 20% to 90% over 10 months)\n3) Operating cost of restaurant when closed is 60% flat\n4) Restaurant profit margin is 5% of total operating cost\n\nmore assumptions will be list as per required and will be mentioned.\n\nUsing these assumptions and clusters of neighborhood created above, we will compare and find potential recovery time or net positive income flow for restaurants."
        },
        {
            "cell_type": "code",
            "execution_count": null,
            "metadata": {},
            "outputs": [],
            "source": ""
        }
    ],
    "metadata": {
        "kernelspec": {
            "display_name": "Python 3.6",
            "language": "python",
            "name": "python3"
        },
        "language_info": {
            "codemirror_mode": {
                "name": "ipython",
                "version": 3
            },
            "file_extension": ".py",
            "mimetype": "text/x-python",
            "name": "python",
            "nbconvert_exporter": "python",
            "pygments_lexer": "ipython3",
            "version": "3.6.9"
        }
    },
    "nbformat": 4,
    "nbformat_minor": 1
}