{
    "cells": [
        {
            "cell_type": "markdown",
            "metadata": {
                "collapsed": true
            },
            "source": "## Capstone Project : Effect of Covid on Resturants and Their Future Recovery"
        },
        {
            "cell_type": "code",
            "execution_count": 2,
            "metadata": {},
            "outputs": [],
            "source": "# The code was removed by Watson Studio for sharing."
        },
        {
            "cell_type": "code",
            "execution_count": 1,
            "metadata": {},
            "outputs": [],
            "source": "import numpy as np\nimport pandas as pd"
        },
        {
            "cell_type": "code",
            "execution_count": 2,
            "metadata": {},
            "outputs": [
                {
                    "name": "stdout",
                    "output_type": "stream",
                    "text": "Hello Capstone Project Course!\n"
                }
            ],
            "source": "print(\"Hello Capstone Project Course!\") # Just for fun"
        },
        {
            "cell_type": "markdown",
            "metadata": {},
            "source": "### Introduction to the problem\n\n#### 1. Description of the problem\nDue to covid most of the restaurants suffered heavy loss of revanue during lockdown. As restaurants opens slowly mainly allowing carryout and delivery, lets find out which areas are more suitable for short term recovey and which areas will take long time to recover.\n\n#### 2. Background of the problem\nDue to the pandemic, most of the businesses had to shut down their door. These businesses(restaurants) are looking to reopen as soon as possible to increase the revenue but with it increases the operating cost. As most of the business asking employess to work from home, restaurants in commercial area will have low demand compare to residential areas. Similarly, as outbreaks gets undercontrol, people will more likely be using restaurants in some capacity. Demand is likely not return to pre pendemic level due to high job losses and psychological effects in near future. But on business stand point, when is it most profitable to open restaurant in commercial area and how long will it take for restuarants to be positive in cash flow? "
        },
        {
            "cell_type": "markdown",
            "metadata": {},
            "source": "### Description of data to be used\n\nWe will use neighborhood data for city of toronto. Using this data we will devide this neighborhoods to three catagories using Foursquare data of every neighborhood. We will use decision tree algorithm accounting for number of commercial buildings and residential buildings in all areas. We can devide areas into three catagories as follows:  \n1. Residential Area  \n2. Commercial Area   \n3. Mixture.  \n\nWe will take following assumptions:  \n1. Office based business will open into later Phases of reopening (6 months of closure)  \n2. Demand for restaurant will slowly recover (linear increase from 20% to 90% over 10 months)  \n3. Operating cost of restaurant when closed is 60% of original operating cost  \n4. Restaurant profit margin is 3% for residential areas, 4.5% for mixed and 6% for commercial areas of total operating cost  \n\nmore assumptions will be list as per required and will be mentioned.  \n\nUsing these assumptions and clusters of neighborhood created above, we will compare and find potential recovery time or net positive income flow for restaurants."
        },
        {
            "cell_type": "code",
            "execution_count": null,
            "metadata": {},
            "outputs": [],
            "source": ""
        }
    ],
    "metadata": {
        "kernelspec": {
            "display_name": "Python 3.6",
            "language": "python",
            "name": "python3"
        },
        "language_info": {
            "codemirror_mode": {
                "name": "ipython",
                "version": 3
            },
            "file_extension": ".py",
            "mimetype": "text/x-python",
            "name": "python",
            "nbconvert_exporter": "python",
            "pygments_lexer": "ipython3",
            "version": "3.6.9"
        }
    },
    "nbformat": 4,
    "nbformat_minor": 1
}